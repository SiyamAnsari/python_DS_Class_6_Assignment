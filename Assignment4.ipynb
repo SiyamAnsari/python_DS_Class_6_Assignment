{
 "cells": [
  {
   "cell_type": "markdown",
   "id": "dbeb14e1",
   "metadata": {
    "id": "dbeb14e1"
   },
   "source": [
    "---\n",
    "\n",
    "## Advanced Regular Expression Assignments\n",
    "\n",
    "### Assignment 1: Extracting Phone Numbers\n",
    "\n",
    "**Raw Text:**\n",
    "Extract all valid Pakistani phone numbers from a given text.\n",
    "\n",
    "**Example:**\n",
    "```\n",
    "Text: Please contact me at 0301-1234567 or 042-35678901 for further details.\n",
    "```\n",
    "\n"
   ]
  },
  {
   "cell_type": "code",
   "execution_count": 3,
   "id": "b830b03e",
   "metadata": {
    "id": "b830b03e"
   },
   "outputs": [],
   "source": [
    "import pandas as pd\n",
    "import numpy as np\n",
    "import re"
   ]
  },
  {
   "cell_type": "code",
   "execution_count": 130,
   "id": "Q-j2QAyyttHj",
   "metadata": {
    "id": "Q-j2QAyyttHj"
   },
   "outputs": [
    {
     "data": {
      "text/plain": [
       "['0301-1234567']"
      ]
     },
     "execution_count": 130,
     "metadata": {},
     "output_type": "execute_result"
    }
   ],
   "source": [
    "Text = \"\"\"Please contact me at 0301-1234567 or 042-35678901 for further details.\"\"\"\n",
    "# Text = Text.replace(\"-\",\"\")\n",
    "pattern = (\"\\d{4}-\\d{7}\")\n",
    "abc = re.findall(pattern, Text)\n",
    "abc"
   ]
  },
  {
   "cell_type": "markdown",
   "id": "dd34fb2f",
   "metadata": {
    "id": "dd34fb2f"
   },
   "source": [
    "### Assignment 2: Validating Email Addresses\n",
    "\n",
    "**Raw Text:**\n",
    "Validate email addresses according to Pakistani domain extensions (.pk).\n",
    "\n",
    "**Example:**\n",
    "```\n",
    "Text: Contact us at info@example.com or support@domain.pk for assistance.\n",
    "```\n",
    "\n"
   ]
  },
  {
   "cell_type": "code",
   "execution_count": 293,
   "id": "64cf6883",
   "metadata": {
    "id": "64cf6883"
   },
   "outputs": [
    {
     "data": {
      "text/plain": [
       "['support@domain.pk']"
      ]
     },
     "execution_count": 293,
     "metadata": {},
     "output_type": "execute_result"
    }
   ],
   "source": [
    "text = \"\"\"Contact us at info@example.com or support@domain.pk for assistance.\"\"\"\n",
    "patterns = r\"([\\w]+@[\\w]+.pk)\"\n",
    "email = re.findall(patterns, text)\n",
    "email"
   ]
  },
  {
   "cell_type": "markdown",
   "id": "0bd2f6f3",
   "metadata": {
    "id": "0bd2f6f3"
   },
   "source": [
    "### Assignment 3: Extracting CNIC Numbers\n",
    "\n",
    "**Raw Text:**\n",
    "Extract all Pakistani CNIC (Computerized National Identity Card) numbers from a given text.\n",
    "\n",
    "**Example:**\n",
    "```\n",
    "Text: My CNIC is 12345-6789012-3 and another one is 34567-8901234-5.\n",
    "```\n"
   ]
  },
  {
   "cell_type": "code",
   "execution_count": 299,
   "id": "b825834e",
   "metadata": {
    "id": "b825834e"
   },
   "outputs": [
    {
     "data": {
      "text/plain": [
       "['12345-6789012-3', '34567-8901234-5']"
      ]
     },
     "execution_count": 299,
     "metadata": {},
     "output_type": "execute_result"
    }
   ],
   "source": [
    "Text = \"\"\"My CNIC is 12345-6789012-3 and another one is 34567-8901234-5.\"\"\"\n",
    "pattern_3 = \"\\d{5}-\\d{7}-\\d\"\n",
    "cnic = re.findall(pattern_3, Text)\n",
    "cnic"
   ]
  },
  {
   "cell_type": "markdown",
   "id": "f21a0a2f",
   "metadata": {
    "id": "f21a0a2f"
   },
   "source": [
    "\n",
    "### Assignment 4: Identifying Urdu Words\n",
    "\n",
    "**Raw Text:**\n",
    "Identify and extract Urdu words from a mixed English-Urdu text.\n",
    "\n",
    "**Example:**\n",
    "```\n",
    "Text: یہ sentence میں کچھ English words بھی ہیں۔\n",
    "```\n",
    "\n"
   ]
  },
  {
   "cell_type": "code",
   "execution_count": 323,
   "id": "b4263cfb",
   "metadata": {
    "id": "b4263cfb"
   },
   "outputs": [
    {
     "data": {
      "text/plain": [
       "['یہ', 'میں', 'کچھ', 'بھی', 'ہیں']"
      ]
     },
     "execution_count": 323,
     "metadata": {},
     "output_type": "execute_result"
    }
   ],
   "source": [
    "Text = \"\"\"یہ sentence میں کچھ English words بھی ہیں\"\"\"\n",
    "pattern_4 = \"([^\\s\\-a-zA-Z]+)\"\n",
    "# pattern_4 = r\"\\b([^\\s\\-a-zA-Z]+\\b)\"\n",
    "urdu = re.findall(pattern_4, Text)\n",
    "urdu"
   ]
  },
  {
   "cell_type": "markdown",
   "id": "421405e8",
   "metadata": {
    "id": "421405e8"
   },
   "source": [
    "### Assignment 5: Finding Dates\n",
    "\n",
    "**Raw Text:**\n",
    "Find and extract dates in the format DD-MM-YYYY from a given text.\n",
    "\n",
    "**Example:**\n",
    "```\n",
    "Text: The event will take place on 15-08-2023 and 23-09-2023.\n",
    "```\n",
    "\n"
   ]
  },
  {
   "cell_type": "code",
   "execution_count": 326,
   "id": "c2f9d8bf",
   "metadata": {
    "id": "c2f9d8bf"
   },
   "outputs": [
    {
     "data": {
      "text/plain": [
       "['15-08-2023', '23-09-2023']"
      ]
     },
     "execution_count": 326,
     "metadata": {},
     "output_type": "execute_result"
    }
   ],
   "source": [
    "Text = \"\"\"The event will take place on 15-08-2023 and 23-09-2023.\"\"\"\n",
    "pattern_5 = \"\\d{2}-\\d{2}-\\d{2,4}\"\n",
    "date = re.findall(pattern_5, Text)\n",
    "date"
   ]
  },
  {
   "cell_type": "markdown",
   "id": "6b817815",
   "metadata": {
    "id": "6b817815"
   },
   "source": [
    "### Assignment 6: Extracting URLs\n",
    "\n",
    "**Raw Text:**\n",
    "Extract all URLs from a text that belong to Pakistani domains.\n",
    "\n",
    "**Example:**\n",
    "```\n",
    "Text: Visit http://www.example.pk or https://website.com.pk for more information.\n",
    "```\n",
    "\n"
   ]
  },
  {
   "cell_type": "code",
   "execution_count": 338,
   "id": "c2ba10ac",
   "metadata": {
    "id": "c2ba10ac"
   },
   "outputs": [
    {
     "data": {
      "text/plain": [
       "['https://website.com.pk']"
      ]
     },
     "execution_count": 338,
     "metadata": {},
     "output_type": "execute_result"
    }
   ],
   "source": [
    "Text = \"\"\"Visit http://www.example.pk or https://website.com.pk for more information.\"\"\"\n",
    "pattern_6 = \"(https.//\\w.+pk)\"\n",
    "url = re.findall(pattern_6, Text)\n",
    "url"
   ]
  },
  {
   "cell_type": "markdown",
   "id": "7ff1dc07",
   "metadata": {
    "id": "7ff1dc07"
   },
   "source": [
    "### Assignment 7: Analyzing Currency\n",
    "\n",
    "**Raw Text:**\n",
    "Extract and analyze currency amounts in Pakistani Rupees (PKR) from a given text.\n",
    "\n",
    "**Example:**\n",
    "```\n",
    "Text: The product costs PKR 1500, while the deluxe version is priced at Rs. 2500.\n",
    "```\n",
    "\n"
   ]
  },
  {
   "cell_type": "code",
   "execution_count": 426,
   "id": "28769652",
   "metadata": {
    "id": "28769652"
   },
   "outputs": [
    {
     "data": {
      "text/plain": [
       "['1500', '2500']"
      ]
     },
     "execution_count": 426,
     "metadata": {},
     "output_type": "execute_result"
    }
   ],
   "source": [
    "Text = \"\"\"The product costs PKR 1500, while the deluxe version is priced at Rs. 2500.\"\"\"\n",
    "pattern_7 = \"(\\d{1,90})\"\n",
    "amount = re.findall(pattern_7, Text)\n",
    "amount"
   ]
  },
  {
   "cell_type": "markdown",
   "id": "651c8b5d",
   "metadata": {
    "id": "651c8b5d"
   },
   "source": [
    "### Assignment 8: Removing Punctuation\n",
    "\n",
    "**Raw Text:**\n",
    "Remove all punctuation marks from a text while preserving Urdu characters.\n",
    "\n",
    "**Example:**\n",
    "```\n",
    "Text: کیا! آپ, یہاں؟\n",
    "```\n",
    "\n"
   ]
  },
  {
   "cell_type": "code",
   "execution_count": 450,
   "id": "96350bf0",
   "metadata": {
    "id": "96350bf0"
   },
   "outputs": [
    {
     "data": {
      "text/plain": [
       "['کیا', 'آپ', 'یہاں']"
      ]
     },
     "execution_count": 450,
     "metadata": {},
     "output_type": "execute_result"
    }
   ],
   "source": [
    "Text = \"\"\"کیا! آپ, یہاں؟\"\"\"\n",
    "pattern_8 = \"([^\\W]+)\"\n",
    "rem_Punc = re.findall(pattern_8, Text)\n",
    "rem_Punc"
   ]
  },
  {
   "cell_type": "markdown",
   "id": "8cc27684",
   "metadata": {
    "id": "8cc27684"
   },
   "source": [
    "### Assignment 9: Extracting City Names\n",
    "\n",
    "**Raw Text:**\n",
    "Extract names of Pakistani cities from a given text.\n",
    "\n",
    "**Example:**\n",
    "```\n",
    "Text: Lahore, Karachi, Islamabad, and Peshawar are major cities of Pakistan.\n",
    "```\n"
   ]
  },
  {
   "cell_type": "code",
   "execution_count": 471,
   "id": "a81035ed",
   "metadata": {
    "id": "a81035ed"
   },
   "outputs": [
    {
     "data": {
      "text/plain": [
       "[('Lahore', 'Karachi', 'Islamabad', 'Peshawar')]"
      ]
     },
     "execution_count": 471,
     "metadata": {},
     "output_type": "execute_result"
    }
   ],
   "source": [
    "Text = \"\"\"Lahore, Karachi, Islamabad, and Peshawar are major cities of Pakistan.\"\"\"\n",
    "pattern_9 = \"([\\w]+)\\,\\s([\\w]+)\\,\\s([\\w]+)\\,\\sand\\s([\\w]+)\"\n",
    "cities = re.findall(pattern_9, Text)\n",
    "cities"
   ]
  },
  {
   "cell_type": "markdown",
   "id": "219b6c4c",
   "metadata": {
    "id": "219b6c4c"
   },
   "source": [
    "\n",
    "### Assignment 10: Analyzing Vehicle Numbers\n",
    "\n",
    "**Raw Text:**\n",
    "Identify and extract Pakistani vehicle registration numbers (e.g., ABC-123) from a text.\n",
    "\n",
    "**Example:**\n",
    "```\n",
    "Text: I saw a car with the number plate LEA-567 near the market.\n",
    "```\n",
    "\n"
   ]
  },
  {
   "cell_type": "code",
   "execution_count": 480,
   "id": "33e1e5ba",
   "metadata": {
    "id": "33e1e5ba"
   },
   "outputs": [
    {
     "data": {
      "text/plain": [
       "['LEA-567']"
      ]
     },
     "execution_count": 480,
     "metadata": {},
     "output_type": "execute_result"
    }
   ],
   "source": [
    "Text = \"\"\"I saw a car with the number plate LEA-567 near the market.\"\"\"\n",
    "pattern_10 = r\"(LEA-\\d{3,6})\"\n",
    "reg_num = re.findall(pattern_10, Text)\n",
    "reg_num"
   ]
  }
 ],
 "metadata": {
  "colab": {
   "provenance": []
  },
  "kernelspec": {
   "display_name": "Python 3 (ipykernel)",
   "language": "python",
   "name": "python3"
  },
  "language_info": {
   "codemirror_mode": {
    "name": "ipython",
    "version": 3
   },
   "file_extension": ".py",
   "mimetype": "text/x-python",
   "name": "python",
   "nbconvert_exporter": "python",
   "pygments_lexer": "ipython3",
   "version": "3.11.4"
  }
 },
 "nbformat": 4,
 "nbformat_minor": 5
}
