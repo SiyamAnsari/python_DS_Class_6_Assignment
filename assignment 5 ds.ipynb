{
 "cells": [
  {
   "cell_type": "code",
   "execution_count": 17,
   "id": "9a784fdf-1c2d-4ed5-88cd-533fdc68c447",
   "metadata": {},
   "outputs": [
    {
     "name": "stdout",
     "output_type": "stream",
     "text": [
      "My Name is Siyam I am 22 years old, and i live in Pakistan\n"
     ]
    }
   ],
   "source": [
    "Name = \"Siyam\"\n",
    "age = 22\n",
    "country = \"Pakistan\"\n",
    "card = \"My Name is \" + Name + \" I am \" + str(age) + \" years old, and i live in \" + country\n",
    "print(card)"
   ]
  },
  {
   "cell_type": "code",
   "execution_count": 7,
   "id": "31182184-a322-42a3-ac49-066940175438",
   "metadata": {},
   "outputs": [
    {
     "name": "stdout",
     "output_type": "stream",
     "text": [
      "I bought 3Laptop at 300 each, for a total of $900\n"
     ]
    }
   ],
   "source": [
    "Product = \"Laptop\"\n",
    "price = 300\n",
    "quantity = 3\n",
    "total_cost = price*quantity\n",
    "price*quantity\n",
    "formatted = \"I bought \" + str(quantity) + Product + \" at \" + str(price) + \" each, for a total of $\" + str(total_cost)\n",
    "print(formatted)"
   ]
  },
  {
   "cell_type": "code",
   "execution_count": 9,
   "id": "5d55a086-eb40-43e0-bc32-6a4ec9fb4526",
   "metadata": {},
   "outputs": [
    {
     "name": "stdout",
     "output_type": "stream",
     "text": [
      "<class 'int'>\n"
     ]
    }
   ],
   "source": [
    "total_cost = price*quantity\n",
    "print(type(total_cost))"
   ]
  },
  {
   "cell_type": "code",
   "execution_count": 20,
   "id": "d5823712-7eac-4874-9254-442d4b3c37f9",
   "metadata": {},
   "outputs": [
    {
     "name": "stdout",
     "output_type": "stream",
     "text": [
      "Temperature in Sukkur is 38°c\n"
     ]
    }
   ],
   "source": [
    "city = \"Sukkur\"\n",
    "temperature = 38\n",
    "text = f\"Temperature in {city} is {temperature}°c\"\n",
    "print(text)"
   ]
  },
  {
   "cell_type": "code",
   "execution_count": 34,
   "id": "b2b1e64b-b92d-4194-a781-71bc54e9369e",
   "metadata": {},
   "outputs": [
    {
     "name": "stdout",
     "output_type": "stream",
     "text": [
      "My name is Muhammad Siyam I am 22 years old.\n"
     ]
    }
   ],
   "source": [
    "first_name = \"Muhammad\"\n",
    "last_name = \"Siyam\"\n",
    "birth_year = 2001\n",
    "current_year = 2023\n",
    "age = current_year - birth_year\n",
    "text = (\"My name is %(first_name)s %(last_name)s I am %(age)d years old.\")%{\"first_name\": first_name, \"last_name\": last_name, \"age\": age}\n",
    "print(text)\n"
   ]
  },
  {
   "cell_type": "code",
   "execution_count": 38,
   "id": "824eb945-0ec6-4424-8c8e-c86cb7e2aebe",
   "metadata": {},
   "outputs": [
    {
     "name": "stdout",
     "output_type": "stream",
     "text": [
      "Product: laptop \n",
      "Original price $12000.00 \n",
      "Discount 2% \n",
      "Discounted Price: 11760.00\n"
     ]
    }
   ],
   "source": [
    "product = \"laptop\"\n",
    "discount = 2\n",
    "original_price = 12000\n",
    "discounted_price = original_price*(1-discount/100)\n",
    "formatting =  f\"Product: {product} \\nOriginal price ${original_price:.2f} \\nDiscount {discount}% \\nDiscounted Price: {discounted_price:.2f}\"\n",
    "print(formatting)"
   ]
  },
  {
   "cell_type": "code",
   "execution_count": 54,
   "id": "a6c314f2-b37d-4193-85c1-39946396621b",
   "metadata": {},
   "outputs": [
    {
     "name": "stdout",
     "output_type": "stream",
     "text": [
      "My name is Muhammad siyam I am 22 years old.\n"
     ]
    }
   ],
   "source": [
    "first_name = \"Muhammad\"\n",
    "last_name = \"siyam\"\n",
    "birth_year = 2001\n",
    "current_year = 2023\n",
    "age = current_year-birth_year\n",
    "a = f\"My name is {first_name} {last_name} I am {age} years old.\"\n",
    "print(a)"
   ]
  }
 ],
 "metadata": {
  "kernelspec": {
   "display_name": "Python 3 (ipykernel)",
   "language": "python",
   "name": "python3"
  },
  "language_info": {
   "codemirror_mode": {
    "name": "ipython",
    "version": 3
   },
   "file_extension": ".py",
   "mimetype": "text/x-python",
   "name": "python",
   "nbconvert_exporter": "python",
   "pygments_lexer": "ipython3",
   "version": "3.11.4"
  }
 },
 "nbformat": 4,
 "nbformat_minor": 5
}
