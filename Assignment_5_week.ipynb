{
 "cells": [
  {
   "cell_type": "markdown",
   "id": "e4340f9c-a090-431a-882e-4cb092ff3072",
   "metadata": {},
   "source": [
    "Basic List Operation"
   ]
  },
  {
   "cell_type": "code",
   "execution_count": 4,
   "id": "83f66f4f-bbd2-4418-9a8d-9d3f1bd0f5f6",
   "metadata": {},
   "outputs": [
    {
     "name": "stdout",
     "output_type": "stream",
     "text": [
      "['banana', 'orange', 'grape', 'kiwi']\n",
      "['banana', 'orange', 'grape', 'kiwi', 'pear']\n",
      "['banana', 'mango', 'orange', 'grape', 'kiwi', 'pear']\n"
     ]
    },
    {
     "data": {
      "text/plain": [
       "['banana', 'mango', 'grape', 'kiwi', 'pear']"
      ]
     },
     "execution_count": 4,
     "metadata": {},
     "output_type": "execute_result"
    }
   ],
   "source": [
    "fruit = [\"banana\",\"orange\",\"grape\",\"kiwi\"]\n",
    "print(fruit)\n",
    "fruit.append(\"pear\")\n",
    "print(fruit)\n",
    "fruit.insert(1,\"mango\")\n",
    "print(fruit)\n",
    "fruit.remove(\"orange\")\n",
    "fruit"
   ]
  },
  {
   "cell_type": "markdown",
   "id": "24158633-8e86-48d7-a63a-e8a94698468a",
   "metadata": {},
   "source": [
    "List Slicing"
   ]
  },
  {
   "cell_type": "code",
   "execution_count": 30,
   "id": "c5a2ed15-73fa-4452-bb73-df1a53aa9480",
   "metadata": {},
   "outputs": [
    {
     "name": "stdout",
     "output_type": "stream",
     "text": [
      "[0, 1, 2, 3, 4, 5, 6, 7, 8]\n",
      "3\n",
      "[2, 3, 4, 5, 6]\n",
      "[8, 7, 6]\n"
     ]
    }
   ],
   "source": [
    "numbers = list(range(0,9))\n",
    "print(numbers)\n",
    "print(numbers[3])\n",
    "print(numbers[2:7])\n",
    "print(numbers[-1:-4:-1])"
   ]
  },
  {
   "cell_type": "markdown",
   "id": "e242c28b-40cb-42e3-93f5-7d0d2f048a31",
   "metadata": {},
   "source": [
    "List Comprehension"
   ]
  },
  {
   "cell_type": "code",
   "execution_count": 2,
   "id": "53afcbd0-ef76-446f-9ef9-68d96cdcc312",
   "metadata": {},
   "outputs": [
    {
     "name": "stdout",
     "output_type": "stream",
     "text": [
      "[1, 2, 3, 4, 5, 6, 7, 8, 9, 10]\n"
     ]
    },
    {
     "data": {
      "text/plain": [
       "[2, 4, 6, 8, 10]"
      ]
     },
     "execution_count": 2,
     "metadata": {},
     "output_type": "execute_result"
    }
   ],
   "source": [
    "squars = [i for i in range(1,11)]\n",
    "print(squars)\n",
    "even_squars = [i for i in squars if i% 2==0]\n",
    "even_squars\n"
   ]
  },
  {
   "cell_type": "markdown",
   "id": "80363628-8318-47ca-a61e-caa22b910035",
   "metadata": {},
   "source": [
    "Swapping removing and reverse elements from list"
   ]
  },
  {
   "cell_type": "code",
   "execution_count": 27,
   "id": "a66e6351-85fe-420a-95d5-34d10bd1ba04",
   "metadata": {},
   "outputs": [
    {
     "name": "stdout",
     "output_type": "stream",
     "text": [
      "['red', 'green', 'blue', 'yellow', 'purple']\n",
      "['purple', 'green', 'blue', 'yellow', 'red']\n",
      "['red', 'yellow', 'blue', 'green', 'purple']\n"
     ]
    },
    {
     "data": {
      "text/plain": [
       "['purple', 'yellow', 'red']"
      ]
     },
     "execution_count": 27,
     "metadata": {},
     "output_type": "execute_result"
    }
   ],
   "source": [
    "colors = [\"red\", \"green\", \"blue\", \"yellow\", \"purple\"]\n",
    "print(colors)\n",
    "swap = colors[0]\n",
    "colors[0] = colors[-1]\n",
    "colors[-1] = swap\n",
    "print(colors)\n",
    "print(colors[6::-1]) #Reverse order using slicing\n",
    "colors.remove(\"green\")\n",
    "colors.remove(\"blue\")\n",
    "colors\n"
   ]
  },
  {
   "cell_type": "markdown",
   "id": "4f8e105f-44d2-431d-99d6-99e2b1199093",
   "metadata": {},
   "source": [
    "Advance slicing"
   ]
  },
  {
   "cell_type": "code",
   "execution_count": 81,
   "id": "d510fa11-6128-4773-88bf-206a486c2514",
   "metadata": {},
   "outputs": [
    {
     "name": "stdout",
     "output_type": "stream",
     "text": [
      "['a', 'b', 'c', 'd', 'e', 'f', 'g', 'h', 'i', 'j']\n",
      "['a', 'b', 'c', 'd', 'e', 'f', 'g']\n",
      "['h', 'i', 'j']\n"
     ]
    }
   ],
   "source": [
    "letter = list(\"abcdefghij\")\n",
    "print(letter)\n",
    "first_half = []\n",
    "last_three = []\n",
    "first_half[:] = letter[:]\n",
    "last_three[:] = letter[:]\n",
    "print(first_half[0:7]) \n",
    "print(last_three[7:10])\n"
   ]
  },
  {
   "cell_type": "code",
   "execution_count": 83,
   "id": "be7c6243-b2be-4279-81b3-38748a9a0dc8",
   "metadata": {},
   "outputs": [
    {
     "name": "stdout",
     "output_type": "stream",
     "text": [
      "Element at second row and third column: 6\n"
     ]
    }
   ],
   "source": [
    "matrix = [[1, 2, 3],[4, 5, 6],[7, 8, 9]]\n",
    "\n",
    "# b) Printing the element in the second row (index 1) and third column (index 2)\n",
    "element = matrix[1][2]\n",
    "print(\"Element at second row and third column:\", element)\n",
    "\n",
    "# c) Changing the value at the second row (index 1) and first column (index 0) to 0\n",
    "matrix[1][0] = 0"
   ]
  },
  {
   "cell_type": "code",
   "execution_count": 97,
   "id": "fb4cc041-8552-4c9a-ba14-c4e770a29638",
   "metadata": {},
   "outputs": [
    {
     "name": "stdout",
     "output_type": "stream",
     "text": [
      "6\n",
      "Element at second row and third column: 6\n",
      "6\n"
     ]
    }
   ],
   "source": [
    "matrix = [[1, 2, 3],[4, 5, 6],[7, 8, 9]]\n",
    "# print(matrix[1])\n",
    "# b) Printing the element in the second row (index 1) and third column (index 2)\n",
    "element = matrix[1][2]\n",
    "print(element)\n",
    "print(\"Element at second row and third column:\", element)\n",
    "print(element)\n",
    "# print(matrix[2])\n",
    "# c) Changing the value at the second row (index 1) and first column (index 0) to 0\n",
    "matrix[1][0] = 0"
   ]
  },
  {
   "cell_type": "code",
   "execution_count": 96,
   "id": "0fae15a1-c454-4497-87df-15e5166dcfa2",
   "metadata": {},
   "outputs": [
    {
     "name": "stdout",
     "output_type": "stream",
     "text": [
      "[0, 5, 6]\n",
      "[7, 8, 9]\n"
     ]
    }
   ],
   "source": [
    "print(matrix[1])\n",
    "print(matrix[2])"
   ]
  }
 ],
 "metadata": {
  "kernelspec": {
   "display_name": "Python 3 (ipykernel)",
   "language": "python",
   "name": "python3"
  },
  "language_info": {
   "codemirror_mode": {
    "name": "ipython",
    "version": 3
   },
   "file_extension": ".py",
   "mimetype": "text/x-python",
   "name": "python",
   "nbconvert_exporter": "python",
   "pygments_lexer": "ipython3",
   "version": "3.11.4"
  }
 },
 "nbformat": 4,
 "nbformat_minor": 5
}
